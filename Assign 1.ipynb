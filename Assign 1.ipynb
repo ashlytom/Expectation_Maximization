{
 "cells": [
  {
   "cell_type": "markdown",
   "metadata": {},
   "source": [
    "### Question 1:\n",
    "  Generate 1000 1D samples from a normally distributed random variable (with arbitrary mu, and sigma) and \n",
    "  compute its sample, mean and variance.\n",
    "  \n",
    "    1. See that the sample mean and variance is a reasonably good estimate\n",
    "    2. The unbiased variance estimate that we have learned is a better estimate than\n",
    "       the sample variance\n",
    "    3. Also see that for large number of samples, all these estimates are going closer\n",
    "       and closer to the true estimate.\n"
   ]
  },
  {
   "cell_type": "code",
   "execution_count": 2,
   "metadata": {},
   "outputs": [],
   "source": [
    "import numpy as np\n",
    "\n",
    "data = np.random.randn(1000,1)"
   ]
  },
  {
   "cell_type": "code",
   "execution_count": 3,
   "metadata": {},
   "outputs": [
    {
     "name": "stdout",
     "output_type": "stream",
     "text": [
      "The mean is  0.002593066476275599\n"
     ]
    }
   ],
   "source": [
    "print(\"The mean is \", np.mean(data))"
   ]
  },
  {
   "cell_type": "code",
   "execution_count": 4,
   "metadata": {},
   "outputs": [
    {
     "name": "stdout",
     "output_type": "stream",
     "text": [
      "The standard deviation is  1.0296679801094437\n"
     ]
    }
   ],
   "source": [
    "print(\"The standard deviation is \", np.std(data))"
   ]
  },
  {
   "cell_type": "code",
   "execution_count": 5,
   "metadata": {},
   "outputs": [],
   "source": [
    "# Particular Mean\n",
    "\n",
    "New_mean = 120\n",
    "New_std = 12\n",
    "\n",
    "data_new = New_mean + New_std*(np.random.randn(1000,1))"
   ]
  },
  {
   "cell_type": "code",
   "execution_count": 6,
   "metadata": {},
   "outputs": [
    {
     "name": "stdout",
     "output_type": "stream",
     "text": [
      "The new mean is  120.22814302793869\n"
     ]
    }
   ],
   "source": [
    "print(\"The new mean is \", np.mean(data_new))"
   ]
  },
  {
   "cell_type": "code",
   "execution_count": 7,
   "metadata": {},
   "outputs": [
    {
     "name": "stdout",
     "output_type": "stream",
     "text": [
      "The new standard deviation is  12.155276474517468\n"
     ]
    }
   ],
   "source": [
    "print(\"The new standard deviation is \", np.std(data_new))"
   ]
  },
  {
   "cell_type": "markdown",
   "metadata": {},
   "source": [
    "#### Part 1"
   ]
  },
  {
   "cell_type": "code",
   "execution_count": 8,
   "metadata": {},
   "outputs": [
    {
     "name": "stdout",
     "output_type": "stream",
     "text": [
      "The sample mean is  120.22814302793869\n"
     ]
    }
   ],
   "source": [
    "# Sample mean calculation\n",
    "sample_m = np.sum(data_new)/len(data_new)\n",
    "print(\"The sample mean is \",sample_m)"
   ]
  },
  {
   "cell_type": "markdown",
   "metadata": {},
   "source": [
    "We can see that the sample mean is a resonably good estimate of True mean."
   ]
  },
  {
   "cell_type": "code",
   "execution_count": 9,
   "metadata": {},
   "outputs": [
    {
     "name": "stdout",
     "output_type": "stream",
     "text": [
      "The sample variance 147.75074617195781\n",
      "The sample standard deviation is  12.155276474517468\n"
     ]
    }
   ],
   "source": [
    "#Sample Variance Calculation\n",
    "sample_v = np.sum((data_new - np.mean(data_new))**2)/len(data_new)\n",
    "print(\"The sample variance\" ,sample_v)\n",
    "\n",
    "# Since Sigma or Standard Deviation is the root of variance\n",
    "sigma = np.sqrt(sample_v)\n",
    "print(\"The sample standard deviation is \",sigma)"
   ]
  },
  {
   "cell_type": "markdown",
   "metadata": {},
   "source": [
    "We can see that sample standard deviation is a resonably good estimate of True standard deviation."
   ]
  },
  {
   "cell_type": "markdown",
   "metadata": {},
   "source": [
    "#### Part 2"
   ]
  },
  {
   "cell_type": "code",
   "execution_count": 10,
   "metadata": {},
   "outputs": [
    {
     "name": "stdout",
     "output_type": "stream",
     "text": [
      "The sample Biased standard deviation is  12.155276474517468\n",
      "The sample Unbiased standard deviation is  12.161358674785255\n"
     ]
    }
   ],
   "source": [
    "#Biased variance sample estimate\n",
    "sample_v = np.sum((data_new - np.mean(data_new))**2)/len(data_new)\n",
    "print(\"The sample Biased standard deviation is \", np.sqrt(sample_v))\n",
    "\n",
    "#Unbiased variance sample estimate\n",
    "sample_un = np.sum((data_new - np.mean(data_new))**2)/(len(data_new)-1)\n",
    "print(\"The sample Unbiased standard deviation is \", np.sqrt(sample_un))\n"
   ]
  },
  {
   "cell_type": "markdown",
   "metadata": {},
   "source": [
    "#### Part 3"
   ]
  },
  {
   "cell_type": "code",
   "execution_count": 13,
   "metadata": {},
   "outputs": [],
   "source": [
    "# Particular Mean\n",
    "\n",
    "New_mean = 120\n",
    "New_std = 12\n",
    "\n",
    "data_new = New_mean + New_std*(np.random.randn(1000,1))"
   ]
  },
  {
   "cell_type": "code",
   "execution_count": 14,
   "metadata": {},
   "outputs": [
    {
     "name": "stdout",
     "output_type": "stream",
     "text": [
      "The new mean is  120.66053136112913\n"
     ]
    }
   ],
   "source": [
    "print(\"The new mean is \", np.mean(data_new))"
   ]
  },
  {
   "cell_type": "markdown",
   "metadata": {},
   "source": [
    "We can see that even though our True mean is 120, our calculated sample mean is only giving a resonably good estimate.\n",
    "Since we know that Sample mean is an UNBIASED estimate if we take large samples then the sample mean should converge on the True mean.\n"
   ]
  },
  {
   "cell_type": "code",
   "execution_count": 23,
   "metadata": {},
   "outputs": [
    {
     "name": "stdout",
     "output_type": "stream",
     "text": [
      "The new mean is  120.00347546082845\n"
     ]
    }
   ],
   "source": [
    "data_new1 = New_mean + New_std*(np.random.randn(100000,1))\n",
    "print(\"The new mean is \", np.mean(data_new1))"
   ]
  },
  {
   "cell_type": "code",
   "execution_count": 25,
   "metadata": {},
   "outputs": [
    {
     "name": "stdout",
     "output_type": "stream",
     "text": [
      "The new mean is  120.00640650251303\n"
     ]
    }
   ],
   "source": [
    "data_new2 = New_mean + New_std*(np.random.randn(10000000,1))\n",
    "print(\"The new mean is \", np.mean(data_new2))"
   ]
  },
  {
   "cell_type": "markdown",
   "metadata": {},
   "source": [
    "We can see that it is getting closer to the true mean."
   ]
  },
  {
   "cell_type": "code",
   "execution_count": 32,
   "metadata": {},
   "outputs": [
    {
     "name": "stdout",
     "output_type": "stream",
     "text": [
      "The sample Unbiased standard deviation is  12.032060168934715\n"
     ]
    }
   ],
   "source": [
    "data_new1 = New_mean + New_std*(np.random.randn(100000,1))\n",
    "sample_un1 = np.sum((data_new1 - np.mean(data_new1))**2)/(len(data_new1)-1)\n",
    "print(\"The sample Unbiased standard deviation is \", np.sqrt(sample_un1))"
   ]
  },
  {
   "cell_type": "markdown",
   "metadata": {},
   "source": [
    "We can see that Unbiased sample deviaton is also converging on the True Standard Deviation"
   ]
  },
  {
   "cell_type": "code",
   "execution_count": null,
   "metadata": {},
   "outputs": [],
   "source": []
  }
 ],
 "metadata": {
  "kernelspec": {
   "display_name": "Python 3",
   "language": "python",
   "name": "python3"
  },
  "language_info": {
   "codemirror_mode": {
    "name": "ipython",
    "version": 3
   },
   "file_extension": ".py",
   "mimetype": "text/x-python",
   "name": "python",
   "nbconvert_exporter": "python",
   "pygments_lexer": "ipython3",
   "version": "3.8.3"
  }
 },
 "nbformat": 4,
 "nbformat_minor": 4
}
