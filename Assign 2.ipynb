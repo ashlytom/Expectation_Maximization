{
 "cells": [
  {
   "cell_type": "markdown",
   "metadata": {},
   "source": [
    "### Question 2:\n",
    " Write a program to implement expectation maximization algorithm to separate the\n",
    "samples from coin A and coin B that we have seen in the Lecture."
   ]
  },
  {
   "cell_type": "code",
   "execution_count": 1,
   "metadata": {},
   "outputs": [
    {
     "data": {
      "text/plain": [
       "array([[1, 0, 0, 0, 1, 1, 0, 1, 0, 1],\n",
       "       [1, 1, 1, 1, 0, 1, 1, 1, 1, 1],\n",
       "       [1, 0, 1, 1, 1, 1, 1, 0, 1, 1],\n",
       "       [1, 0, 1, 0, 0, 0, 1, 1, 0, 0],\n",
       "       [0, 1, 1, 1, 0, 1, 1, 1, 0, 1]])"
      ]
     },
     "execution_count": 1,
     "metadata": {},
     "output_type": "execute_result"
    }
   ],
   "source": [
    "import numpy as np\n",
    "Coin = np.array([[1,0,0,0,1,1,0,1,0,1],[1,1,1,1,0,1,1,1,1,1],[1,0,1,1,1,1,1,0,1,1,],[1,0,1,0,0,0,1,1,0,0],[0,1,1,1,0,1,1,1,0,1]])\n",
    "Coin"
   ]
  },
  {
   "cell_type": "code",
   "execution_count": 2,
   "metadata": {},
   "outputs": [],
   "source": [
    "def counterhead(A):\n",
    "    Ar=A.tolist()\n",
    "    r=0\n",
    "    for i in range(len(Ar)):\n",
    "        if Ar[i]==1:\n",
    "            r+=1\n",
    "    return r\n"
   ]
  },
  {
   "cell_type": "code",
   "execution_count": 3,
   "metadata": {},
   "outputs": [],
   "source": [
    "#k=counterhead(Coin[3,:])"
   ]
  },
  {
   "cell_type": "code",
   "execution_count": 4,
   "metadata": {},
   "outputs": [],
   "source": [
    "#Using Binomial Distribution with the parametric form\n",
    "def binomial_likelihood(thet1,thet2,Arr):\n",
    "    k=counterhead(Arr)\n",
    "    n=len(Arr)\n",
    "    Like_CoinA=(thet1**k)*((1-thet1)**(n-k))\n",
    "    Like_CoinB=(thet2**k)*((1-thet2)**(n-k))\n",
    "    return Like_CoinA,Like_CoinB,k,n\n"
   ]
  },
  {
   "cell_type": "code",
   "execution_count": 5,
   "metadata": {},
   "outputs": [],
   "source": [
    "#x,y,c,q=binomial_likelihood(0.4,0.8,Coin[0,:])\n",
    "#x,y,c,q"
   ]
  },
  {
   "cell_type": "code",
   "execution_count": 6,
   "metadata": {},
   "outputs": [],
   "source": [
    "def new_theta(array,theta_A,theta_B):\n",
    "    \n",
    "    \n",
    "    LikeA,LikeB,k,n=binomial_likelihood(theta_A,theta_B,array)  \n",
    "           \n",
    "    Total_try=LikeA+LikeB\n",
    "    N_Like_CoinA=LikeA/Total_try\n",
    "    N_Like_CoinB=LikeB/Total_try\n",
    "    #print(N_Like_CoinA,N_Like_CoinB)\n",
    "    \n",
    "    Sucess_A=N_Like_CoinA*k\n",
    "    Sucess_B=N_Like_CoinB*k\n",
    "    Fail_A=N_Like_CoinA*(n-k)\n",
    "    Fail_B=N_Like_CoinB*(n-k)  \n",
    "    \n",
    "    \n",
    "    return Sucess_A,Sucess_B,Fail_A,Fail_B\n",
    "      \n",
    "      "
   ]
  },
  {
   "cell_type": "code",
   "execution_count": 8,
   "metadata": {},
   "outputs": [],
   "source": [
    "#w,q,r,s = new_theta(Coin[4,:],0.4,0.8)\n",
    "#w,q,r,s"
   ]
  },
  {
   "cell_type": "code",
   "execution_count": 9,
   "metadata": {},
   "outputs": [],
   "source": [
    "def driver(main_array,thet_A,thet_B):\n",
    "    su_a=[]\n",
    "    su_b=[]\n",
    "    fa_a=[]\n",
    "    fa_b=[]\n",
    "    for i in range(5):\n",
    "        array_in=main_array[i,:]\n",
    "        \n",
    "        t,y,u,i=new_theta(array_in,thet_A,thet_B)\n",
    "        #print(t,y,u,i)\n",
    "        \n",
    "        su_a.append(t)\n",
    "        su_b.append(y)\n",
    "        fa_a.append(u)\n",
    "        fa_b.append(i)\n",
    "        #print(su_a,su_b)\n",
    "        \n",
    "    return su_a,su_b,fa_a,fa_b\n",
    "        \n",
    "        "
   ]
  },
  {
   "cell_type": "code",
   "execution_count": 10,
   "metadata": {},
   "outputs": [],
   "source": [
    "#Testing function\n",
    "SuccessA,SucessB,FailA,FailB = driver(Coin,0.4,0.8)\n",
    "#SuccessA,SucessB,FailA,FailB\n",
    "\n"
   ]
  },
  {
   "cell_type": "code",
   "execution_count": 11,
   "metadata": {},
   "outputs": [],
   "source": [
    "def theta_update(tet1,tet2,S_A,S_B,F_A,F_B):\n",
    "    tet1=sum(S_A)/(sum(S_A)+sum(F_A))\n",
    "    tet2=sum(S_B)/(sum(S_B)+sum(F_B))\n",
    "    return tet1,tet2\n",
    "    "
   ]
  },
  {
   "cell_type": "code",
   "execution_count": 12,
   "metadata": {},
   "outputs": [],
   "source": [
    "#u,i=theta_update(0.4,0.8,SuccessA,SucessB,FailA,FailB)\n",
    "#u,i"
   ]
  },
  {
   "cell_type": "code",
   "execution_count": 63,
   "metadata": {},
   "outputs": [],
   "source": [
    "def main_function(theta_main1,theta_main2,array_main):\n",
    "    theta1_array=[]\n",
    "    theta2_array=[]\n",
    "    \n",
    "    for j in range(150):\n",
    "        \n",
    "        \n",
    "        SuccessA,SucessB,FailA,FailB = driver(array_main,theta_main1,theta_main2)\n",
    "        tet1_out,tet2_out=theta_update(theta_main1,theta_main2,SuccessA,SucessB,FailA,FailB)\n",
    "        theta_main1=tet1_out\n",
    "        theta_main2=tet2_out\n",
    "        \n",
    "        theta1_array.append(tet1_out)\n",
    "        theta2_array.append(tet2_out) \n",
    "        \n",
    "        \n",
    "        if(j>0):\n",
    "            if((theta1_array[j]-theta1_array[j-1]<10**-10) and (theta1_array[j]-theta1_array[j-1]<10**-10)):\n",
    "                break\n",
    "        \n",
    "        \n",
    "    \n",
    "    \n",
    "    #print(theta2_array,theta1_array)\n",
    "    return tet1_out,tet2_out"
   ]
  },
  {
   "cell_type": "markdown",
   "metadata": {},
   "source": [
    "##### Intialise with a random theta values as theta1 and theta2"
   ]
  },
  {
   "cell_type": "code",
   "execution_count": 73,
   "metadata": {},
   "outputs": [
    {
     "name": "stdout",
     "output_type": "stream",
     "text": [
      "The final theta1 and theta2 values are  0.7967890668593683 0.5195831198837334\n"
     ]
    }
   ],
   "source": [
    "theta_final1,theta_final2=main_function(0.8,0.2,Coin)\n",
    "print(\"The final theta1 and theta2 values are \",theta_final1,theta_final2)"
   ]
  },
  {
   "cell_type": "code",
   "execution_count": null,
   "metadata": {},
   "outputs": [],
   "source": []
  }
 ],
 "metadata": {
  "kernelspec": {
   "display_name": "Python 3",
   "language": "python",
   "name": "python3"
  },
  "language_info": {
   "codemirror_mode": {
    "name": "ipython",
    "version": 3
   },
   "file_extension": ".py",
   "mimetype": "text/x-python",
   "name": "python",
   "nbconvert_exporter": "python",
   "pygments_lexer": "ipython3",
   "version": "3.8.3"
  }
 },
 "nbformat": 4,
 "nbformat_minor": 4
}
